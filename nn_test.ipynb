{
 "cells": [
  {
   "cell_type": "code",
   "execution_count": 1,
   "metadata": {},
   "outputs": [],
   "source": [
    "import torch\n",
    "import torch.nn as nn\n",
    "import torch.nn.functional as F\n",
    "import numpy as np\n",
    "import random\n",
    "import torch.optim as optim\n",
    "import pickle\n",
    "from torchvision import datasets, transforms\n",
    "from torch.utils.data import DataLoader"
   ]
  },
  {
   "cell_type": "code",
   "execution_count": 2,
   "metadata": {},
   "outputs": [],
   "source": [
    "class ResidualBlock(nn.Module):\n",
    "    def __init__(self, inCh, outCh, stride):\n",
    "        super(ResidualBlock, self).__init__()\n",
    "        self.left = nn.Sequential(\n",
    "            nn.Conv2d(in_channels=inCh, out_channels=outCh,\n",
    "                            kernel_size=3, padding=1, stride=stride),\n",
    "            nn.BatchNorm2d(outCh),\n",
    "            nn.ReLU(inplace=True),\n",
    "            nn.Conv2d(in_channels=outCh, out_channels=outCh,\n",
    "                            kernel_size=3, padding=1, stride=1),\n",
    "            nn.BatchNorm2d(outCh)\n",
    "        )\n",
    "\n",
    "        self.shortcut = nn.Sequential()\n",
    "        if stride != 1 or inCh != outCh:\n",
    "            self.shortcut = nn.Sequential(\n",
    "                nn.Conv2d(in_channels=inCh, out_channels=outCh,\n",
    "                            kernel_size=1, stride=stride),\n",
    "                nn.BatchNorm2d(outCh)\n",
    "            )\n",
    "\n",
    "    def forward(self, x):\n",
    "        out = self.left(x)\n",
    "        out += self.shortcut(x)\n",
    "        out = F.relu(out)\n",
    "        return out\n",
    "\n",
    "\n",
    "class ResNet18(nn.Module):\n",
    "    def __init__(self):\n",
    "        super(ResNet18, self).__init__()\n",
    "        self.conv1 = nn.Sequential(\n",
    "            nn.Conv2d(in_channels=3, out_channels=64, kernel_size=3, padding=1, stride=1),\n",
    "            nn.BatchNorm2d(64),\n",
    "            nn.ReLU(inplace=True)\n",
    "        )\n",
    "        self.layer_1 = self.make_layer(ResidualBlock, 64, 64, stride=1)\n",
    "        self.layer_2 = self.make_layer(ResidualBlock, 64, 128, stride=2)\n",
    "        self.layer_3 = self.make_layer(ResidualBlock, 128, 256, stride=2)\n",
    "        self.layer_4 = self.make_layer(ResidualBlock, 256, 512, stride=2)\n",
    "        self.avgpool = nn.AvgPool2d((3, 3), stride=2)\n",
    "        self.fc = nn.Linear(512 * 1 * 1, 10)\n",
    "\n",
    "    def forward(self, x):\n",
    "        x = self.conv1(x)\n",
    "        x = self.layer_1(x)\n",
    "        x = self.layer_2(x)\n",
    "        x = self.layer_3(x)\n",
    "        x = self.layer_4(x)\n",
    "        x = self.avgpool(x)\n",
    "        x = x.view(-1, 512*1*1)\n",
    "        x = self.fc(x)\n",
    "        return x\n",
    "\n",
    "    def make_layer(self, block, inCh, outCh, stride, block_num=2):\n",
    "        layers = []\n",
    "        layers.append(block(inCh, outCh, stride))\n",
    "        for i in range(block_num - 1):\n",
    "            layers.append(block(outCh, outCh, 1))\n",
    "        return nn.Sequential(*layers)"
   ]
  },
  {
   "cell_type": "code",
   "execution_count": 3,
   "metadata": {},
   "outputs": [],
   "source": [
    "P_up = 1.0\n",
    "STATE = f'models/model_adv_train_DS={P_up}_LR=0.1.pt'"
   ]
  },
  {
   "cell_type": "code",
   "execution_count": 4,
   "metadata": {
    "colab": {
     "base_uri": "https://localhost:8080/",
     "height": 391
    },
    "executionInfo": {
     "elapsed": 7993,
     "status": "error",
     "timestamp": 1705432153677,
     "user": {
      "displayName": "Pedro Zanineli",
      "userId": "14251957431240334486"
     },
     "user_tz": 180
    },
    "id": "UyflpXAhwZ0L",
    "outputId": "adad787a-7900-4a78-febb-4f557c7762be"
   },
   "outputs": [
    {
     "name": "stderr",
     "output_type": "stream",
     "text": [
      "/home/pedro.zanineli/anaconda3/envs/ilumpy/lib/python3.10/site-packages/torch/cuda/__init__.py:138: UserWarning: CUDA initialization: The NVIDIA driver on your system is too old (found version 11060). Please update your GPU driver by downloading and installing a new version from the URL: http://www.nvidia.com/Download/index.aspx Alternatively, go to: https://pytorch.org to install a PyTorch version that has been compiled with your version of the CUDA driver. (Triggered internally at ../c10/cuda/CUDAFunctions.cpp:108.)\n",
      "  return torch._C._cuda_getDeviceCount() > 0\n"
     ]
    },
    {
     "name": "stdout",
     "output_type": "stream",
     "text": [
      "Files already downloaded and verified\n",
      "Files already downloaded and verified\n"
     ]
    }
   ],
   "source": [
    "batchsize=256\n",
    "worker=2\n",
    "device = torch.device(\"cuda\" if torch.cuda.is_available() else \"cpu\")\n",
    "torch.manual_seed(0)\n",
    "mean = [0.4914, 0.4822, 0.4465]\n",
    "std = [0.2023, 0.1994, 0.2010]\n",
    "transform_norm = transforms.Normalize(mean, std)\n",
    "\n",
    "state_dict = torch.load(STATE,map_location=torch.device('cpu'))\n",
    "model_cnn_robust = ResNet18().to(device)\n",
    "model_cnn_robust.load_state_dict(state_dict)\n",
    "\n",
    "transform = transforms.Compose(\n",
    "    [transforms.RandomCrop(32, padding=4),\n",
    "     transforms.RandomHorizontalFlip(),\n",
    "     transforms.ToTensor()])\n",
    "transform_test = transforms.Compose(\n",
    "    [transforms.ToTensor()])\n",
    "\n",
    "trainset = datasets.CIFAR10(root='./data', train=True, download=True, transform=transform)\n",
    "testset = datasets.CIFAR10(root='./data', train=False, download=True, transform=transform_test)"
   ]
  },
  {
   "cell_type": "code",
   "execution_count": 5,
   "metadata": {},
   "outputs": [],
   "source": [
    "def epoch(loader, model, opt=None):\n",
    "    \"\"\"Standard training/evaluation epoch over the dataset\"\"\"\n",
    "    total_loss, total_err = 0., 0.\n",
    "    for X, y in loader:\n",
    "        X, y = X.to(device), y.to(device)\n",
    "        X = transform_norm(X)\n",
    "        yp = model(X)\n",
    "        loss = nn.CrossEntropyLoss()(yp, y)\n",
    "        \n",
    "        if opt:\n",
    "            opt.zero_grad()\n",
    "            loss.backward()\n",
    "            opt.step()\n",
    "        \n",
    "        total_err += (yp.max(dim=1)[1] == y).sum().item()\n",
    "        total_loss += loss.item() * X.shape[0]\n",
    "    return total_err / len(loader.dataset), total_loss / len(loader.dataset)\n",
    "\n",
    "def pgd_linf(model, X, y, epsilon=8.0/255.0, alpha=0.01, num_iter=20, randomize=False):\n",
    "    \"\"\" Construct FGSM adversarial examples on the examples X\"\"\"\n",
    "    if randomize:\n",
    "        delta = torch.rand_like(X, requires_grad=True)\n",
    "        delta.data = delta.data * 2 * epsilon - epsilon\n",
    "    else:\n",
    "        delta = torch.zeros_like(X, requires_grad=True)\n",
    "\n",
    "    for t in range(num_iter):\n",
    "        loss = nn.CrossEntropyLoss()(model(transform_norm(X + delta)), y)\n",
    "        loss.backward()\n",
    "        delta.data = (delta + alpha * delta.grad.detach().sign()).clamp(-epsilon, epsilon)\n",
    "        delta.grad.zero_()\n",
    "    return delta.detach()\n",
    "\n",
    "def epoch_adversarial(loader, model, attack, opt=None, **kwargs):\n",
    "    \"\"\"Adversarial training/evaluation epoch over the dataset\"\"\"\n",
    "    total_loss, total_err = 0., 0.\n",
    "    for X, y in loader:\n",
    "        X, y = X.to(device), y.to(device)\n",
    "        # with adversarial example\n",
    "        delta = attack(model, X, y, **kwargs)\n",
    "        adv = transform_norm(X + delta)\n",
    "        yp = model(adv)\n",
    "        loss = nn.CrossEntropyLoss()(yp, y)\n",
    "        if opt:\n",
    "            opt.zero_grad()\n",
    "            loss.backward()\n",
    "            opt.step()\n",
    "        total_err += (yp.max(dim=1)[1] == y).sum().item()\n",
    "        total_loss += loss.item() * X.shape[0]\n",
    "\n",
    "    return total_err / len(loader.dataset), total_loss / len(loader.dataset)"
   ]
  },
  {
   "cell_type": "code",
   "execution_count": 6,
   "metadata": {},
   "outputs": [
    {
     "name": "stdout",
     "output_type": "stream",
     "text": [
      "AIRPLANE\n",
      "Test Acc: 0.224; Adversarial Acc: 0.192\n",
      "Test Loss: 4.033956165313721; Adversarial Loss: 5.623592803955078\n"
     ]
    }
   ],
   "source": [
    "airplane_idx_test = np.where((np.array(testset.targets) == 0))[0]\n",
    "airplane_ds_test = torch.utils.data.Subset(testset, airplane_idx_test)\n",
    "airplane_dl_test = torch.utils.data.DataLoader(airplane_ds_test, batch_size=256, shuffle=True, num_workers=worker)\n",
    "\n",
    "train_loader = DataLoader(trainset, batch_size=batchsize, shuffle=True, num_workers=worker)\n",
    "test_loader = DataLoader(testset, batch_size=batchsize, shuffle=False, num_workers=worker)\n",
    "\n",
    "test_err, test_loss = epoch(airplane_dl_test, model_cnn_robust)\n",
    "\n",
    "adv_err, adv_loss = epoch_adversarial(airplane_dl_test, model_cnn_robust, pgd_linf)\n",
    "\n",
    "test_err_0 = test_err\n",
    "adv_err_0 = adv_err\n",
    "\n",
    "print('AIRPLANE')\n",
    "print(f'Test Acc: {test_err}; Adversarial Acc: {adv_err}')\n",
    "print(f'Test Loss: {test_loss}; Adversarial Loss: {adv_loss}')"
   ]
  },
  {
   "cell_type": "code",
   "execution_count": 7,
   "metadata": {
    "colab": {
     "base_uri": "https://localhost:8080/"
    },
    "executionInfo": {
     "elapsed": 17269,
     "status": "ok",
     "timestamp": 1704900197878,
     "user": {
      "displayName": "Carlos Vinicius",
      "userId": "17863470203490207526"
     },
     "user_tz": 180
    },
    "id": "oHHCvSZc2u11",
    "outputId": "2a830c31-472e-4db7-92be-44804094fb41"
   },
   "outputs": [
    {
     "name": "stdout",
     "output_type": "stream",
     "text": [
      "AUTOMOBILE\n",
      "Test Acc: 0.334; Adversarial Acc: 0.299\n",
      "Test Loss: 3.887029333114624; Adversarial Loss: 5.554950820922851\n"
     ]
    }
   ],
   "source": [
    "automobile_idx_test = np.where((np.array(testset.targets) == 1))[0]\n",
    "automobile_ds_test = torch.utils.data.Subset(testset, automobile_idx_test)\n",
    "automobile_dl_test = torch.utils.data.DataLoader(automobile_ds_test, batch_size=256, shuffle=True, num_workers=worker)\n",
    "\n",
    "test_err, test_loss = epoch(automobile_dl_test, model_cnn_robust)\n",
    "\n",
    "adv_err, adv_loss = epoch_adversarial(automobile_dl_test, model_cnn_robust, pgd_linf)\n",
    "\n",
    "test_err_1 = test_err\n",
    "adv_err_1 = adv_err\n",
    "\n",
    "print('AUTOMOBILE')\n",
    "print(f'Test Acc: {test_err}; Adversarial Acc: {adv_err}')\n",
    "print(f'Test Loss: {test_loss}; Adversarial Loss: {adv_loss}')"
   ]
  },
  {
   "cell_type": "code",
   "execution_count": 8,
   "metadata": {
    "colab": {
     "base_uri": "https://localhost:8080/"
    },
    "executionInfo": {
     "elapsed": 16938,
     "status": "ok",
     "timestamp": 1704900214812,
     "user": {
      "displayName": "Carlos Vinicius",
      "userId": "17863470203490207526"
     },
     "user_tz": 180
    },
    "id": "15a4M1MN3RnS",
    "outputId": "88397b1c-dcad-42d0-e7cf-7526feab0484"
   },
   "outputs": [
    {
     "name": "stdout",
     "output_type": "stream",
     "text": [
      "BIRD\n",
      "Test Acc: 0.207; Adversarial Acc: 0.152\n",
      "Test Loss: 3.342370183944702; Adversarial Loss: 4.8830491676330565\n"
     ]
    }
   ],
   "source": [
    "bird_idx_test = np.where((np.array(testset.targets) == 2))[0]\n",
    "bird_ds_test = torch.utils.data.Subset(testset, bird_idx_test)\n",
    "bird_dl_test = torch.utils.data.DataLoader(bird_ds_test, batch_size=256, shuffle=True, num_workers=worker)\n",
    "\n",
    "test_err, test_loss = epoch(bird_dl_test, model_cnn_robust)\n",
    "\n",
    "adv_err, adv_loss = epoch_adversarial(bird_dl_test, model_cnn_robust, pgd_linf)\n",
    "\n",
    "test_err_2 = test_err\n",
    "adv_err_2 = adv_err\n",
    "\n",
    "print('BIRD')\n",
    "print(f'Test Acc: {test_err}; Adversarial Acc: {adv_err}')\n",
    "print(f'Test Loss: {test_loss}; Adversarial Loss: {adv_loss}')"
   ]
  },
  {
   "cell_type": "code",
   "execution_count": 9,
   "metadata": {
    "colab": {
     "base_uri": "https://localhost:8080/"
    },
    "executionInfo": {
     "elapsed": 17022,
     "status": "ok",
     "timestamp": 1704900231814,
     "user": {
      "displayName": "Carlos Vinicius",
      "userId": "17863470203490207526"
     },
     "user_tz": 180
    },
    "id": "T63kan-z3ggN",
    "outputId": "baa738bf-4dc9-4f91-ba3a-cea647b1ebec"
   },
   "outputs": [
    {
     "name": "stdout",
     "output_type": "stream",
     "text": [
      "CAT\n",
      "Test Acc: 0.235; Adversarial Acc: 0.143\n",
      "Test Loss: 2.7644569091796876; Adversarial Loss: 4.271253471374512\n"
     ]
    }
   ],
   "source": [
    "cat_idx_test = np.where((np.array(testset.targets) == 3))[0]\n",
    "cat_ds_test = torch.utils.data.Subset(testset, cat_idx_test)\n",
    "cat_dl_test = torch.utils.data.DataLoader(cat_ds_test, batch_size=256, shuffle=True, num_workers=worker)\n",
    "\n",
    "test_err, test_loss = epoch(cat_dl_test, model_cnn_robust)\n",
    "\n",
    "adv_err, adv_loss = epoch_adversarial(cat_dl_test, model_cnn_robust, pgd_linf)\n",
    "\n",
    "test_err_3 = test_err\n",
    "adv_err_3 = adv_err\n",
    "\n",
    "print('CAT')\n",
    "print(f'Test Acc: {test_err}; Adversarial Acc: {adv_err}')\n",
    "print(f'Test Loss: {test_loss}; Adversarial Loss: {adv_loss}')"
   ]
  },
  {
   "cell_type": "code",
   "execution_count": 10,
   "metadata": {
    "colab": {
     "base_uri": "https://localhost:8080/"
    },
    "executionInfo": {
     "elapsed": 16530,
     "status": "ok",
     "timestamp": 1704900248329,
     "user": {
      "displayName": "Carlos Vinicius",
      "userId": "17863470203490207526"
     },
     "user_tz": 180
    },
    "id": "cd7Uvo-p3pjn",
    "outputId": "5b3a54da-71e3-40dc-ade3-76a5f475e5ea"
   },
   "outputs": [
    {
     "name": "stdout",
     "output_type": "stream",
     "text": [
      "DEER\n",
      "Test Acc: 0.209; Adversarial Acc: 0.17\n",
      "Test Loss: 3.321489875793457; Adversarial Loss: 5.248711463928223\n"
     ]
    }
   ],
   "source": [
    "deer_idx_test = np.where((np.array(testset.targets) == 4))[0]\n",
    "deer_ds_test = torch.utils.data.Subset(testset, deer_idx_test)\n",
    "deer_dl_test = torch.utils.data.DataLoader(deer_ds_test, batch_size=256, shuffle=True, num_workers=worker)\n",
    "\n",
    "test_err, test_loss = epoch(deer_dl_test, model_cnn_robust)\n",
    "\n",
    "adv_err, adv_loss = epoch_adversarial(deer_dl_test, model_cnn_robust, pgd_linf)\n",
    "\n",
    "test_err_4 = test_err\n",
    "adv_err_4 = adv_err\n",
    "\n",
    "print('DEER')\n",
    "print(f'Test Acc: {test_err}; Adversarial Acc: {adv_err}')\n",
    "print(f'Test Loss: {test_loss}; Adversarial Loss: {adv_loss}')"
   ]
  },
  {
   "cell_type": "code",
   "execution_count": 11,
   "metadata": {
    "colab": {
     "base_uri": "https://localhost:8080/"
    },
    "executionInfo": {
     "elapsed": 16720,
     "status": "ok",
     "timestamp": 1704900265042,
     "user": {
      "displayName": "Carlos Vinicius",
      "userId": "17863470203490207526"
     },
     "user_tz": 180
    },
    "id": "DxvNhDNf37UC",
    "outputId": "50ed741a-cb3b-4515-f976-fe18da02b70f"
   },
   "outputs": [
    {
     "name": "stdout",
     "output_type": "stream",
     "text": [
      "DOG\n",
      "Test Acc: 0.243; Adversarial Acc: 0.185\n",
      "Test Loss: 3.0715699634552003; Adversarial Loss: 4.5711318359375\n"
     ]
    }
   ],
   "source": [
    "dog_idx_test = np.where((np.array(testset.targets) == 5))[0]\n",
    "dog_ds_test = torch.utils.data.Subset(testset, dog_idx_test)\n",
    "dog_dl_test = torch.utils.data.DataLoader(dog_ds_test, batch_size=256, shuffle=True, num_workers=worker)\n",
    "\n",
    "test_err, test_loss = epoch(dog_dl_test, model_cnn_robust)\n",
    "\n",
    "adv_err, adv_loss = epoch_adversarial(dog_dl_test, model_cnn_robust, pgd_linf)\n",
    "\n",
    "test_err_5 = test_err\n",
    "adv_err_5 = adv_err\n",
    "\n",
    "print('DOG')\n",
    "print(f'Test Acc: {test_err}; Adversarial Acc: {adv_err}')\n",
    "print(f'Test Loss: {test_loss}; Adversarial Loss: {adv_loss}')"
   ]
  },
  {
   "cell_type": "code",
   "execution_count": 12,
   "metadata": {
    "colab": {
     "base_uri": "https://localhost:8080/"
    },
    "executionInfo": {
     "elapsed": 17265,
     "status": "ok",
     "timestamp": 1704900282300,
     "user": {
      "displayName": "Carlos Vinicius",
      "userId": "17863470203490207526"
     },
     "user_tz": 180
    },
    "id": "5DbdouBH4FTb",
    "outputId": "d5d55059-c940-40ae-9d96-f4eded58b9be"
   },
   "outputs": [
    {
     "name": "stdout",
     "output_type": "stream",
     "text": [
      "FROG\n",
      "Test Acc: 0.211; Adversarial Acc: 0.199\n",
      "Test Loss: 3.998934844970703; Adversarial Loss: 5.972938270568847\n"
     ]
    }
   ],
   "source": [
    "frog_idx_test = np.where((np.array(testset.targets) == 6))[0]\n",
    "frog_ds_test = torch.utils.data.Subset(testset, frog_idx_test)\n",
    "frog_dl_test = torch.utils.data.DataLoader(frog_ds_test, batch_size=256, shuffle=True, num_workers=worker)\n",
    "\n",
    "test_err, test_loss = epoch(frog_dl_test, model_cnn_robust)\n",
    "\n",
    "adv_err, adv_loss = epoch_adversarial(frog_dl_test, model_cnn_robust, pgd_linf)\n",
    "\n",
    "test_err_6 = test_err\n",
    "adv_err_6 = adv_err\n",
    "\n",
    "print('FROG')\n",
    "print(f'Test Acc: {test_err}; Adversarial Acc: {adv_err}')\n",
    "print(f'Test Loss: {test_loss}; Adversarial Loss: {adv_loss}')"
   ]
  },
  {
   "cell_type": "code",
   "execution_count": 13,
   "metadata": {
    "colab": {
     "base_uri": "https://localhost:8080/"
    },
    "executionInfo": {
     "elapsed": 16862,
     "status": "ok",
     "timestamp": 1704900299158,
     "user": {
      "displayName": "Carlos Vinicius",
      "userId": "17863470203490207526"
     },
     "user_tz": 180
    },
    "id": "deiSXxQs4PmO",
    "outputId": "c02e3a77-7530-40cf-830b-1ca2688a5e43"
   },
   "outputs": [
    {
     "name": "stdout",
     "output_type": "stream",
     "text": [
      "HORSE\n",
      "Test Acc: 0.311; Adversarial Acc: 0.274\n",
      "Test Loss: 3.3932357330322267; Adversarial Loss: 5.102161098480225\n"
     ]
    }
   ],
   "source": [
    "horse_idx_test = np.where((np.array(testset.targets) == 7))[0]\n",
    "horse_ds_test = torch.utils.data.Subset(testset, horse_idx_test)\n",
    "horse_dl_test = torch.utils.data.DataLoader(horse_ds_test, batch_size=256, shuffle=True, num_workers=worker)\n",
    "\n",
    "test_err, test_loss = epoch(horse_dl_test, model_cnn_robust)\n",
    "\n",
    "adv_err, adv_loss = epoch_adversarial(horse_dl_test, model_cnn_robust, pgd_linf)\n",
    "\n",
    "test_err_7 = test_err\n",
    "adv_err_7 = adv_err\n",
    "\n",
    "print('HORSE')\n",
    "print(f'Test Acc: {test_err}; Adversarial Acc: {adv_err}')\n",
    "print(f'Test Loss: {test_loss}; Adversarial Loss: {adv_loss}')"
   ]
  },
  {
   "cell_type": "code",
   "execution_count": 14,
   "metadata": {
    "colab": {
     "base_uri": "https://localhost:8080/"
    },
    "executionInfo": {
     "elapsed": 16826,
     "status": "ok",
     "timestamp": 1704900315945,
     "user": {
      "displayName": "Carlos Vinicius",
      "userId": "17863470203490207526"
     },
     "user_tz": 180
    },
    "id": "junkCrZH4Y0Z",
    "outputId": "c8c5a429-7af7-4744-f4f4-ca8e4482858c"
   },
   "outputs": [
    {
     "name": "stdout",
     "output_type": "stream",
     "text": [
      "SHIP\n",
      "Test Acc: 0.236; Adversarial Acc: 0.223\n",
      "Test Loss: 4.103270648956299; Adversarial Loss: 6.067111721038819\n"
     ]
    }
   ],
   "source": [
    "ship_idx_test = np.where((np.array(testset.targets) == 8))[0]\n",
    "ship_ds_test = torch.utils.data.Subset(testset, ship_idx_test)\n",
    "ship_dl_test = torch.utils.data.DataLoader(ship_ds_test, batch_size=256, shuffle=True, num_workers=worker)\n",
    "\n",
    "test_err, test_loss = epoch(ship_dl_test, model_cnn_robust)\n",
    "\n",
    "adv_err, adv_loss = epoch_adversarial(ship_dl_test, model_cnn_robust, pgd_linf)\n",
    "\n",
    "test_err_8 = test_err\n",
    "adv_err_8 = adv_err\n",
    "\n",
    "print('SHIP')\n",
    "print(f'Test Acc: {test_err}; Adversarial Acc: {adv_err}')\n",
    "print(f'Test Loss: {test_loss}; Adversarial Loss: {adv_loss}')"
   ]
  },
  {
   "cell_type": "code",
   "execution_count": 15,
   "metadata": {
    "colab": {
     "base_uri": "https://localhost:8080/"
    },
    "executionInfo": {
     "elapsed": 17175,
     "status": "ok",
     "timestamp": 1704900333096,
     "user": {
      "displayName": "Carlos Vinicius",
      "userId": "17863470203490207526"
     },
     "user_tz": 180
    },
    "id": "C0922Hjk4kIB",
    "outputId": "b2ef30e2-4fa7-4a10-c152-edb6b4f0753d"
   },
   "outputs": [
    {
     "name": "stdout",
     "output_type": "stream",
     "text": [
      "TRUCK\n",
      "Test Acc: 0.316; Adversarial Acc: 0.295\n",
      "Test Loss: 3.6020864219665527; Adversarial Loss: 5.248545532226562\n"
     ]
    }
   ],
   "source": [
    "truck_idx_test = np.where((np.array(testset.targets) == 9))[0]\n",
    "truck_ds_test = torch.utils.data.Subset(testset, truck_idx_test)\n",
    "truck_dl_test = torch.utils.data.DataLoader(truck_ds_test, batch_size=256, shuffle=True, num_workers=worker)\n",
    "\n",
    "test_err, test_loss = epoch(truck_dl_test, model_cnn_robust)\n",
    "\n",
    "adv_err, adv_loss = epoch_adversarial(truck_dl_test, model_cnn_robust, pgd_linf)\n",
    "\n",
    "test_err_9 = test_err\n",
    "adv_err_9 = adv_err\n",
    "\n",
    "print('TRUCK')\n",
    "print(f'Test Acc: {test_err}; Adversarial Acc: {adv_err}')\n",
    "print(f'Test Loss: {test_loss}; Adversarial Loss: {adv_loss}')"
   ]
  },
  {
   "cell_type": "code",
   "execution_count": 16,
   "metadata": {
    "id": "ixJWhd1g9tcv"
   },
   "outputs": [],
   "source": [
    "y = np.array([adv_err_0, adv_err_1, adv_err_2, adv_err_3, adv_err_4, adv_err_5, adv_err_6, adv_err_7, adv_err_8, adv_err_9])"
   ]
  },
  {
   "cell_type": "code",
   "execution_count": 17,
   "metadata": {
    "colab": {
     "base_uri": "https://localhost:8080/",
     "height": 596
    },
    "executionInfo": {
     "elapsed": 25,
     "status": "ok",
     "timestamp": 1704900333098,
     "user": {
      "displayName": "Carlos Vinicius",
      "userId": "17863470203490207526"
     },
     "user_tz": 180
    },
    "id": "ErtJJqtu5hnn",
    "outputId": "678b3ef0-df40-4354-ee35-e27a29ff7692",
    "scrolled": false
   },
   "outputs": [
    {
     "data": {
      "image/png": "[encoded data removed]",
      "text/plain": [
       "<Figure size 864x432 with 1 Axes>"
      ]
     },
     "metadata": {
      "needs_background": "light"
     },
     "output_type": "display_data"
    }
   ],
   "source": [
    "import matplotlib.pyplot as plt\n",
    "\n",
    "fig, ax = plt.subplots(figsize=(12,6))\n",
    "\n",
    "x = ['Airplane', 'Automobile', 'Bird', 'Cat', 'Deer', 'Dog', 'Frog', 'Horse', 'Ship', 'Truck']\n",
    "\n",
    "plt.bar(x, y)\n",
    "plt.xticks(rotation = 45)\n",
    "\n",
    "ax.spines['top'].set_visible(False)\n",
    "ax.spines['right'].set_visible(False)\n",
    "\n",
    "plt.axhline(y=y.min(), color='r', linestyle='-', linewidth=3)\n",
    "plt.axhline(y=y.mean(), color='k', linestyle='-', linewidth=3)\n",
    "\n",
    "plt.ylabel('Robust test accuracy',fontsize=18)\n",
    "plt.title('Adversarial training ($P_{up}$=1.0)\\n',fontsize=20,loc='left')\n",
    "\n",
    "plt.ylim(0,1)\n",
    "plt.savefig(f'./figs/DS={P_up}_LR=0.1.png',dpi=500)\n",
    "plt.show()"
   ]
  },
  {
   "cell_type": "markdown",
   "metadata": {},
   "source": [
    "# "
   ]
  },
  {
   "cell_type": "code",
   "execution_count": 72,
   "metadata": {},
   "outputs": [
    {
     "name": "stdout",
     "output_type": "stream",
     "text": [
      "Label\n",
      "Airplane\n",
      "Automobile\n",
      "Bird\n",
      "Cat\n",
      "Deer\n",
      "Dog\n",
      "Frog\n",
      "Horse\n",
      "Ship\n",
      "Truck\n"
     ]
    }
   ],
   "source": [
    "print('Label')\n",
    "for label in ['Airplane', 'Automobile', 'Bird', 'Cat', 'Deer', 'Dog', 'Frog', 'Horse', 'Ship', 'Truck']:\n",
    "    print(label)"
   ]
  },
  {
   "cell_type": "code",
   "execution_count": 68,
   "metadata": {},
   "outputs": [
    {
     "name": "stdout",
     "output_type": "stream",
     "text": [
      "Teste\n",
      "Label,\n",
      "Airplane,0.121\n",
      "Automobile,0.35\n",
      "Bird,0.121\n",
      "Cat,0.013\n",
      "Deer,0.026\n",
      "Dog,0.22\n",
      "Frog,0.369\n",
      "Horse,0.249\n",
      "Ship,0.018\n",
      "Truck,0.086\n"
     ]
    }
   ],
   "source": [
    "print('Teste')\n",
    "print('Label,')\n",
    "for label, test_acc in zip(['Airplane', 'Automobile', 'Bird', 'Cat', 'Deer', 'Dog', 'Frog', 'Horse', 'Ship', 'Truck'],[test_err_0, test_err_1, test_err_2, test_err_3, test_err_4, test_err_5, test_err_6, test_err_7, test_err_8, test_err_9]):\n",
    "    print(f'{label},{test_acc}')"
   ]
  },
  {
   "cell_type": "code",
   "execution_count": 69,
   "metadata": {
    "scrolled": true
   },
   "outputs": [
    {
     "name": "stdout",
     "output_type": "stream",
     "text": [
      "Adv\n",
      "Label,\n",
      ",0.084\n",
      ",0.345\n",
      ",0.139\n",
      ",0.01\n",
      ",0.006\n",
      ",0.201\n",
      ",0.409\n",
      ",0.244\n",
      ",0.013\n",
      ",0.048\n"
     ]
    }
   ],
   "source": [
    "print('Adv')\n",
    "print('Label,')\n",
    "for label, adv_acc in zip(['Airplane', 'Automobile', 'Bird', 'Cat', 'Deer', 'Dog', 'Frog', 'Horse', 'Ship', 'Truck'],[adv_err_0, adv_err_1, adv_err_2, adv_err_3, adv_err_4, adv_err_5, adv_err_6, adv_err_7, adv_err_8, adv_err_9]):\n",
    "#     print(f'{label},{adv_acc}')\n",
    "    print(f',{adv_acc}')"
   ]
  },
  {
   "cell_type": "markdown",
   "metadata": {},
   "source": [
    "# "
   ]
  },
  {
   "cell_type": "code",
   "execution_count": 18,
   "metadata": {},
   "outputs": [],
   "source": [
    "y_test = [test_err_0, test_err_1, test_err_2, test_err_3, test_err_4, test_err_5, test_err_6, test_err_7, test_err_8, test_err_9]\n",
    "y_advs = [adv_err_0, adv_err_1, adv_err_2, adv_err_3, adv_err_4, adv_err_5, adv_err_6, adv_err_7, adv_err_8, adv_err_9]"
   ]
  },
  {
   "cell_type": "code",
   "execution_count": 19,
   "metadata": {},
   "outputs": [],
   "source": [
    "with open('./accs/adv_accs.txt','r') as f:\n",
    "    content = f.read()\n",
    "    content = content.split('\\n')\n",
    "    new_content = []\n",
    "    \n",
    "    i=0\n",
    "    for linha in content:\n",
    "        if linha != \"\":\n",
    "            if i != 0:\n",
    "                new_content.append(linha + f',{y_advs[i-1]}\\n')\n",
    "            else:\n",
    "                new_content.append(linha + f',P_up={P_up}\\n')\n",
    "        i+=1\n",
    "\n",
    "with open('./accs/adv_accs.txt','w') as f:\n",
    "    f.write(''.join(new_content))"
   ]
  },
  {
   "cell_type": "code",
   "execution_count": 20,
   "metadata": {},
   "outputs": [],
   "source": [
    "with open('./accs/teste_accs.txt','r') as f:\n",
    "    content = f.read()\n",
    "    content = content.split('\\n')\n",
    "    new_content = []\n",
    "    \n",
    "    i=0\n",
    "    for linha in content:\n",
    "        if linha != \"\":\n",
    "            if i != 0:\n",
    "                new_content.append(linha + f',{y_test[i-1]}\\n')\n",
    "            else:\n",
    "                new_content.append(linha + f',P_up={P_up}\\n')\n",
    "        i+=1\n",
    "\n",
    "with open('./accs/teste_accs.txt','w') as f:\n",
    "    f.write(''.join(new_content))"
   ]
  },
  {
   "cell_type": "code",
   "execution_count": null,
   "metadata": {},
   "outputs": [],
   "source": []
  }
 ],
 "metadata": {
  "accelerator": "GPU",
  "colab": {
   "gpuType": "T4",
   "provenance": []
  },
  "kernelspec": {
   "display_name": "Python 3 (ipykernel)",
   "language": "python",
   "name": "python3"
  },
  "language_info": {
   "codemirror_mode": {
    "name": "ipython",
    "version": 3
   },
   "file_extension": ".py",
   "mimetype": "text/x-python",
   "name": "python",
   "nbconvert_exporter": "python",
   "pygments_lexer": "ipython3",
   "version": "3.10.4"
  }
 },
 "nbformat": 4,
 "nbformat_minor": 4
}
